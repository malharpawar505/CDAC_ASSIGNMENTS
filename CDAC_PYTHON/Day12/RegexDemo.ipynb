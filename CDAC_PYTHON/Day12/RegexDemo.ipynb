{
 "cells": [
  {
   "cell_type": "code",
   "execution_count": 1,
   "id": "ee13e101",
   "metadata": {},
   "outputs": [],
   "source": [
    "import re"
   ]
  },
  {
   "cell_type": "code",
   "execution_count": 2,
   "id": "0c7b0b1f",
   "metadata": {},
   "outputs": [],
   "source": [
    "re?"
   ]
  },
  {
   "cell_type": "code",
   "execution_count": 3,
   "id": "5c151f47",
   "metadata": {},
   "outputs": [
    {
     "data": {
      "text/plain": [
       "<re.Match object; span=(0, 3), match='The'>"
      ]
     },
     "execution_count": 3,
     "metadata": {},
     "output_type": "execute_result"
    }
   ],
   "source": [
    "s=\"The quick brown fox jumps over the lazy dog\"\n",
    "re.match(\"^The\",s)"
   ]
  },
  {
   "cell_type": "code",
   "execution_count": 5,
   "id": "2466ec48",
   "metadata": {},
   "outputs": [
    {
     "data": {
      "text/plain": [
       "<re.Match object; span=(0, 3), match='The'>"
      ]
     },
     "execution_count": 5,
     "metadata": {},
     "output_type": "execute_result"
    }
   ],
   "source": [
    "re.search(\"^The\",s)"
   ]
  },
  {
   "cell_type": "code",
   "execution_count": 6,
   "id": "bd7e13a0",
   "metadata": {},
   "outputs": [
    {
     "data": {
      "text/plain": [
       "['The']"
      ]
     },
     "execution_count": 6,
     "metadata": {},
     "output_type": "execute_result"
    }
   ],
   "source": [
    "re.findall(\"^The\",s)"
   ]
  },
  {
   "cell_type": "code",
   "execution_count": 8,
   "id": "d92e9dca",
   "metadata": {},
   "outputs": [
    {
     "data": {
      "text/plain": [
       "['lazy', 'lazy']"
      ]
     },
     "execution_count": 8,
     "metadata": {},
     "output_type": "execute_result"
    }
   ],
   "source": [
    "s=\"The quick brown fox jumps over the lazy crazy busy lazy dog\"\n",
    "re.findall(\"l..y\",s)"
   ]
  },
  {
   "cell_type": "code",
   "execution_count": 9,
   "id": "82b87520",
   "metadata": {},
   "outputs": [
    {
     "data": {
      "text/plain": [
       "<re.Match object; span=(35, 39), match='lazy'>"
      ]
     },
     "execution_count": 9,
     "metadata": {},
     "output_type": "execute_result"
    }
   ],
   "source": [
    "s=\"The quick brown fox jumps over the lazy crazy busy lazy dog\"\n",
    "re.search(\"l..y\",s)"
   ]
  },
  {
   "cell_type": "code",
   "execution_count": 11,
   "id": "9e546889",
   "metadata": {},
   "outputs": [
    {
     "data": {
      "text/plain": [
       "[<re.Match object; span=(35, 39), match='lazy'>,\n",
       " <re.Match object; span=(51, 55), match='lazy'>]"
      ]
     },
     "execution_count": 11,
     "metadata": {},
     "output_type": "execute_result"
    }
   ],
   "source": [
    "s=\"The quick brown fox jumps over the lazy crazy busy lazy dog\"\n",
    "lst =list(re.finditer(\"l..y\",s))\n",
    "lst"
   ]
  },
  {
   "cell_type": "code",
   "execution_count": 15,
   "id": "142b1fe1",
   "metadata": {},
   "outputs": [
    {
     "data": {
      "text/plain": [
       "'The quick broown foox jumps oover the lazy crazy busy lazy doog'"
      ]
     },
     "execution_count": 15,
     "metadata": {},
     "output_type": "execute_result"
    }
   ],
   "source": [
    "s=\"The quick brown fox jumps over the lazy crazy busy lazy dog\"\n",
    "s1=re.sub(\"o\",\"oo\",s)\n",
    "s1\n"
   ]
  },
  {
   "cell_type": "code",
   "execution_count": 36,
   "id": "dca6a9b5",
   "metadata": {},
   "outputs": [
    {
     "data": {
      "text/plain": [
       "['broown', 'foox', 'oover', 'doog']"
      ]
     },
     "execution_count": 36,
     "metadata": {},
     "output_type": "execute_result"
    }
   ],
   "source": [
    "re.findall(\"[a-z]+[oo]+[a-z]*\",s1)\n",
    "\n"
   ]
  },
  {
   "cell_type": "code",
   "execution_count": 38,
   "id": "3ff0acba",
   "metadata": {},
   "outputs": [
    {
     "data": {
      "text/plain": [
       "['brown_fox', 'over_the']"
      ]
     },
     "execution_count": 38,
     "metadata": {},
     "output_type": "execute_result"
    }
   ],
   "source": [
    "s=\"The quick brown_fox jumps over_the lazy crazy busy lazy dog\"\n",
    "re.findall(\"[a-z]*_+[a-z]*\",s)\n"
   ]
  },
  {
   "cell_type": "code",
   "execution_count": 39,
   "id": "90ec18df",
   "metadata": {},
   "outputs": [
    {
     "data": {
      "text/plain": [
       "['345', '1234']"
      ]
     },
     "execution_count": 39,
     "metadata": {},
     "output_type": "execute_result"
    }
   ],
   "source": [
    "s=\"The quick brown_fox 345 jumps over_the lazy crazy 1234 busy lazy dog\"\n",
    "re.findall(\"[0-9]+\",s)"
   ]
  },
  {
   "cell_type": "code",
   "execution_count": 41,
   "id": "a1adfbb9",
   "metadata": {},
   "outputs": [
    {
     "data": {
      "text/plain": [
       "['3455 3456 9090 9090 ', '1234 1234 1234 9090 ']"
      ]
     },
     "execution_count": 41,
     "metadata": {},
     "output_type": "execute_result"
    }
   ],
   "source": [
    "s=\"The quick brown_fox 3455 3456 9090 9090 jumps over_the lazy crazy 1234 1234 1234 9090 busy lazy dog\"\n",
    "re.findall(\"\\d{4}\\s+\\d{4}\\s+\\d{4}\\s+\\d{4}\\s+\",s)"
   ]
  },
  {
   "cell_type": "code",
   "execution_count": 42,
   "id": "fa858ead",
   "metadata": {},
   "outputs": [
    {
     "data": {
      "text/plain": [
       "['3455 ', '3456 ', '9090 ', '9090 ', '1234 ', '1234 ', '1234 ', '9090 ']"
      ]
     },
     "execution_count": 42,
     "metadata": {},
     "output_type": "execute_result"
    }
   ],
   "source": [
    "s=\"The quick brown_fox 3455 3456 9090 9090 jumps over_the lazy crazy 1234 1234 1234 9090 busy lazy dog\"\n",
    "re.findall(\"\\d{4}\\s+\",s)"
   ]
  },
  {
   "cell_type": "code",
   "execution_count": 49,
   "id": "47f9b4fa",
   "metadata": {},
   "outputs": [
    {
     "data": {
      "text/plain": [
       "<re.Match object; span=(100, 115), match=' ravi@gmail.com'>"
      ]
     },
     "execution_count": 49,
     "metadata": {},
     "output_type": "execute_result"
    }
   ],
   "source": [
    "s=\"In this HTML tutorial, you will find more than 200 examples. With our online Try it Yourself editor, ravi@gmail.com you can edit sudha@yahoo.com and test each example yourself!\"\n",
    "re.findall(\"\\s+[a-zA-Z0-9.]+@+[a-zA-Z.]+\",s)\n",
    "\n",
    "re.search(\"\\s+[a-zA-Z0-9.]+@+[a-zA-Z.]+\",s)"
   ]
  },
  {
   "cell_type": "code",
   "execution_count": null,
   "id": "51e3d61c",
   "metadata": {},
   "outputs": [],
   "source": []
  },
  {
   "cell_type": "code",
   "execution_count": null,
   "id": "f5937177",
   "metadata": {},
   "outputs": [],
   "source": []
  },
  {
   "cell_type": "code",
   "execution_count": null,
   "id": "4c4930bf",
   "metadata": {},
   "outputs": [],
   "source": []
  },
  {
   "cell_type": "code",
   "execution_count": null,
   "id": "2f135eb6",
   "metadata": {},
   "outputs": [],
   "source": []
  },
  {
   "cell_type": "code",
   "execution_count": null,
   "id": "2e84ab4a",
   "metadata": {},
   "outputs": [],
   "source": []
  },
  {
   "cell_type": "code",
   "execution_count": null,
   "id": "bf730e22",
   "metadata": {},
   "outputs": [],
   "source": []
  },
  {
   "cell_type": "code",
   "execution_count": null,
   "id": "eb4a3f17",
   "metadata": {},
   "outputs": [],
   "source": []
  },
  {
   "cell_type": "code",
   "execution_count": null,
   "id": "efb9dd11",
   "metadata": {},
   "outputs": [],
   "source": []
  },
  {
   "cell_type": "code",
   "execution_count": null,
   "id": "d0312359",
   "metadata": {},
   "outputs": [],
   "source": []
  },
  {
   "cell_type": "code",
   "execution_count": null,
   "id": "fa8a995b",
   "metadata": {},
   "outputs": [],
   "source": []
  },
  {
   "cell_type": "code",
   "execution_count": null,
   "id": "8f1a8373",
   "metadata": {},
   "outputs": [],
   "source": []
  },
  {
   "cell_type": "code",
   "execution_count": null,
   "id": "9f6597e1",
   "metadata": {},
   "outputs": [],
   "source": []
  },
  {
   "cell_type": "code",
   "execution_count": null,
   "id": "bb1bcd2c",
   "metadata": {},
   "outputs": [],
   "source": []
  },
  {
   "cell_type": "code",
   "execution_count": null,
   "id": "bf5a88ac",
   "metadata": {},
   "outputs": [],
   "source": []
  },
  {
   "cell_type": "code",
   "execution_count": null,
   "id": "e4c7cdd5",
   "metadata": {},
   "outputs": [],
   "source": []
  },
  {
   "cell_type": "code",
   "execution_count": null,
   "id": "8bcf4858",
   "metadata": {},
   "outputs": [],
   "source": []
  },
  {
   "cell_type": "code",
   "execution_count": null,
   "id": "5c87d973",
   "metadata": {},
   "outputs": [],
   "source": []
  },
  {
   "cell_type": "code",
   "execution_count": null,
   "id": "442ab009",
   "metadata": {},
   "outputs": [],
   "source": []
  },
  {
   "cell_type": "code",
   "execution_count": null,
   "id": "6c228dd0",
   "metadata": {},
   "outputs": [],
   "source": []
  },
  {
   "cell_type": "code",
   "execution_count": null,
   "id": "b8f231c8",
   "metadata": {},
   "outputs": [],
   "source": []
  },
  {
   "cell_type": "code",
   "execution_count": null,
   "id": "95827ecc",
   "metadata": {},
   "outputs": [],
   "source": []
  },
  {
   "cell_type": "code",
   "execution_count": null,
   "id": "810b8d1b",
   "metadata": {},
   "outputs": [],
   "source": []
  },
  {
   "cell_type": "code",
   "execution_count": null,
   "id": "b7a3debd",
   "metadata": {},
   "outputs": [],
   "source": []
  },
  {
   "cell_type": "code",
   "execution_count": null,
   "id": "3923fb67",
   "metadata": {},
   "outputs": [],
   "source": []
  },
  {
   "cell_type": "code",
   "execution_count": null,
   "id": "95dde98b",
   "metadata": {},
   "outputs": [],
   "source": []
  },
  {
   "cell_type": "code",
   "execution_count": null,
   "id": "9a9cfbc6",
   "metadata": {},
   "outputs": [],
   "source": []
  }
 ],
 "metadata": {
  "kernelspec": {
   "display_name": "Python 3 (ipykernel)",
   "language": "python",
   "name": "python3"
  },
  "language_info": {
   "codemirror_mode": {
    "name": "ipython",
    "version": 3
   },
   "file_extension": ".py",
   "mimetype": "text/x-python",
   "name": "python",
   "nbconvert_exporter": "python",
   "pygments_lexer": "ipython3",
   "version": "3.11.5"
  }
 },
 "nbformat": 4,
 "nbformat_minor": 5
}
