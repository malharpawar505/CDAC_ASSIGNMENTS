{
 "cells": [
  {
   "cell_type": "code",
   "execution_count": 1,
   "id": "a94f8031",
   "metadata": {},
   "outputs": [],
   "source": [
    "import numpy as np"
   ]
  },
  {
   "cell_type": "code",
   "execution_count": 2,
   "id": "bbc0e197",
   "metadata": {},
   "outputs": [
    {
     "name": "stdout",
     "output_type": "stream",
     "text": [
      "[[3 6 5]\n",
      " [3 2 4]\n",
      " [7 4 8]]\n",
      "[[3 6 5]\n",
      " [7 6 2]\n",
      " [3 1 3]]\n"
     ]
    }
   ],
   "source": [
    "arr= np.random.randint(1,10,(3,3))\n",
    "arr1= np.random.randint(1,10,(3,3))\n",
    "print(arr)\n",
    "print(arr1)\n"
   ]
  },
  {
   "cell_type": "code",
   "execution_count": 3,
   "id": "8336f5b4",
   "metadata": {},
   "outputs": [
    {
     "name": "stdout",
     "output_type": "stream",
     "text": [
      "[[ 6 12 10]\n",
      " [10  8  6]\n",
      " [10  5 11]]\n"
     ]
    }
   ],
   "source": [
    "#Addition\n",
    "print(arr+arr1)"
   ]
  },
  {
   "cell_type": "code",
   "execution_count": 5,
   "id": "e080b4cd",
   "metadata": {},
   "outputs": [
    {
     "name": "stdout",
     "output_type": "stream",
     "text": [
      "[[3 6 5]\n",
      " [3 2 4]\n",
      " [7 4 8]]\n",
      "[[3 6 5]\n",
      " [7 6 2]\n",
      " [3 1 3]]\n",
      "[[ 0  0  0]\n",
      " [-4 -4  2]\n",
      " [ 4  3  5]]\n"
     ]
    }
   ],
   "source": [
    "#Sub\n",
    "print(arr)\n",
    "print(arr1)\n",
    "print(arr-arr1)"
   ]
  },
  {
   "cell_type": "code",
   "execution_count": 6,
   "id": "d3a6f191",
   "metadata": {},
   "outputs": [
    {
     "name": "stdout",
     "output_type": "stream",
     "text": [
      "[[3 6 5]\n",
      " [3 2 4]\n",
      " [7 4 8]]\n",
      "[[3 6 5]\n",
      " [7 6 2]\n",
      " [3 1 3]]\n",
      "[[ 9 36 25]\n",
      " [21 12  8]\n",
      " [21  4 24]]\n",
      "--------------------\n",
      "[[1.         1.         1.        ]\n",
      " [0.42857143 0.33333333 2.        ]\n",
      " [2.33333333 4.         2.66666667]]\n",
      "--------------------\n",
      "[[0 0 0]\n",
      " [3 2 0]\n",
      " [1 0 2]]\n",
      "--------------------\n",
      "[[1 1 1]\n",
      " [0 0 2]\n",
      " [2 4 2]]\n",
      "--------------------\n"
     ]
    }
   ],
   "source": [
    "print(arr)\n",
    "print(arr1)\n",
    "print(arr*arr1)\n",
    "print(\"--\"*10)\n",
    "print(arr/arr1)\n",
    "print(\"--\"*10)\n",
    "print(arr%arr1)\n",
    "print(\"--\"*10)\n",
    "print(arr//arr1)\n",
    "print(\"--\"*10)"
   ]
  },
  {
   "cell_type": "code",
   "execution_count": 7,
   "id": "af252804",
   "metadata": {},
   "outputs": [
    {
     "name": "stdout",
     "output_type": "stream",
     "text": [
      "[[3 6 5]\n",
      " [3 2 4]\n",
      " [7 4 8]]\n",
      "[[3 6 5]\n",
      " [7 6 2]\n",
      " [3 1 3]]\n",
      "[[66 59 42]\n",
      " [35 34 31]\n",
      " [73 74 67]]\n"
     ]
    }
   ],
   "source": [
    "print(arr)\n",
    "print(arr1)\n",
    "print(arr.dot(arr1))"
   ]
  },
  {
   "cell_type": "code",
   "execution_count": 10,
   "id": "bf04449e",
   "metadata": {},
   "outputs": [
    {
     "name": "stdout",
     "output_type": "stream",
     "text": [
      "[[ 1  2  3  4  5]\n",
      " [ 6  7  8  9 10]\n",
      " [11 12 13 14 15]\n",
      " [16 17 18 19 20]\n",
      " [21 22 23 24 25]\n",
      " [26 27 28 29 30]]\n"
     ]
    }
   ],
   "source": [
    "#Accessing Array Element using index and Slicing\n",
    "arr= np.arange(1,31).reshape(6,5)\n",
    "print(arr)"
   ]
  },
  {
   "cell_type": "code",
   "execution_count": null,
   "id": "1485a313",
   "metadata": {},
   "outputs": [],
   "source": []
  },
  {
   "cell_type": "code",
   "execution_count": 11,
   "id": "4b177f1a",
   "metadata": {},
   "outputs": [
    {
     "name": "stdout",
     "output_type": "stream",
     "text": [
      "1\n",
      "23\n"
     ]
    }
   ],
   "source": [
    "print(arr[0 ,0])\n",
    "print(arr[4 ,2])"
   ]
  },
  {
   "cell_type": "code",
   "execution_count": 12,
   "id": "c2c4023d",
   "metadata": {},
   "outputs": [
    {
     "name": "stdout",
     "output_type": "stream",
     "text": [
      "[[ 1  2  3  4  5]\n",
      " [11 12 13 14 15]\n",
      " [21 22 23 24 25]]\n"
     ]
    }
   ],
   "source": [
    "print(arr[::2 ,:])"
   ]
  },
  {
   "cell_type": "code",
   "execution_count": 13,
   "id": "2c6eac5a",
   "metadata": {},
   "outputs": [
    {
     "name": "stdout",
     "output_type": "stream",
     "text": [
      "[[ 1  2  3  4  5]\n",
      " [ 6  7  8  9 10]\n",
      " [11 12 13 14 15]\n",
      " [16 17 18 19 20]\n",
      " [21 22 23 24 25]\n",
      " [26 27 28 29 30]]\n",
      "------------------------------\n",
      "[[ 1  3  5]\n",
      " [ 6  8 10]\n",
      " [11 13 15]\n",
      " [16 18 20]\n",
      " [21 23 25]\n",
      " [26 28 30]]\n"
     ]
    }
   ],
   "source": [
    "print(arr)\n",
    "print(\"---\"*10)\n",
    "print(arr[:,::2])"
   ]
  },
  {
   "cell_type": "code",
   "execution_count": 14,
   "id": "2b1e0844",
   "metadata": {},
   "outputs": [
    {
     "name": "stdout",
     "output_type": "stream",
     "text": [
      "[[ 1  2  3  4  5]\n",
      " [ 6  7  8  9 10]\n",
      " [11 12 13 14 15]\n",
      " [16 17 18 19 20]\n",
      " [21 22 23 24 25]\n",
      " [26 27 28 29 30]]\n",
      "------------------------------\n",
      "[[ 1  3  5]\n",
      " [11 13 15]\n",
      " [21 23 25]]\n"
     ]
    }
   ],
   "source": [
    "print(arr)\n",
    "print(\"---\"*10)\n",
    "print(arr[::2,::2])"
   ]
  },
  {
   "cell_type": "code",
   "execution_count": 15,
   "id": "71aa9336",
   "metadata": {},
   "outputs": [
    {
     "name": "stdout",
     "output_type": "stream",
     "text": [
      "[[ 1  2  3  4  5]\n",
      " [ 6  7  8  9 10]\n",
      " [11 12 13 14 15]\n",
      " [16 17 18 19 20]\n",
      " [21 22 23 24 25]\n",
      " [26 27 28 29 30]]\n",
      "------------------------------\n",
      "[[ 3  5]\n",
      " [ 8 10]\n",
      " [13 15]\n",
      " [18 20]\n",
      " [23 25]\n",
      " [28 30]]\n"
     ]
    }
   ],
   "source": [
    "print(arr)\n",
    "print(\"---\"*10)\n",
    "print(arr[:,(2,4)])"
   ]
  },
  {
   "cell_type": "code",
   "execution_count": 16,
   "id": "1a6527fd",
   "metadata": {},
   "outputs": [
    {
     "name": "stdout",
     "output_type": "stream",
     "text": [
      "[[ 1  2  3  4  5]\n",
      " [ 6  7  8  9 10]\n",
      " [11 12 13 14 15]\n",
      " [16 17 18 19 20]\n",
      " [21 22 23 24 25]\n",
      " [26 27 28 29 30]]\n",
      "------------------------------\n",
      "[[ 2  5]\n",
      " [ 7 10]\n",
      " [12 15]\n",
      " [17 20]\n",
      " [22 25]\n",
      " [27 30]]\n"
     ]
    }
   ],
   "source": [
    "print(arr)\n",
    "print(\"---\"*10)\n",
    "print(arr[:,(1,4)])"
   ]
  },
  {
   "cell_type": "code",
   "execution_count": 21,
   "id": "3dda5e00",
   "metadata": {},
   "outputs": [
    {
     "name": "stdout",
     "output_type": "stream",
     "text": [
      "[[ 1  2  3  4  5]\n",
      " [ 6  7  8  9 10]\n",
      " [11 12 13 14 15]\n",
      " [16 17 18 19 20]\n",
      " [21 22 23 24 25]\n",
      " [26 27 28 29 30]]\n",
      "------------------------------\n",
      "[[ 1  2  3  4  5]\n",
      " [26 27 28 29 30]]\n",
      "[[ 1  5]\n",
      " [ 6 10]\n",
      " [11 15]\n",
      " [16 20]\n",
      " [21 25]\n",
      " [26 30]]\n",
      "[[ 1  5]\n",
      " [26 30]]\n"
     ]
    }
   ],
   "source": [
    "print(arr)\n",
    "print(\"---\"*10)\n",
    "print(arr[(0,5),:])\n",
    "print(arr[:,(0,4)])\n",
    "print(arr[(0,5),0:5:4])"
   ]
  },
  {
   "cell_type": "code",
   "execution_count": 43,
   "id": "ff5ad5b9",
   "metadata": {},
   "outputs": [
    {
     "name": "stdout",
     "output_type": "stream",
     "text": [
      "[4 5 3 4 9 1 2 6 9 2]\n",
      "------------------------------\n",
      "[1 2 2 3 4 4 5 6 9 9]\n"
     ]
    }
   ],
   "source": [
    "arr=np.random.randint(1,10,10)\n",
    "print(arr)\n",
    "print(\"---\"*10)\n",
    "arr.sort() #sort array colwise\n",
    "print(arr)"
   ]
  },
  {
   "cell_type": "code",
   "execution_count": null,
   "id": "dcd17e27",
   "metadata": {},
   "outputs": [],
   "source": []
  },
  {
   "cell_type": "code",
   "execution_count": null,
   "id": "63c617b4",
   "metadata": {},
   "outputs": [],
   "source": []
  },
  {
   "cell_type": "code",
   "execution_count": 27,
   "id": "e5e0df31",
   "metadata": {},
   "outputs": [
    {
     "name": "stdout",
     "output_type": "stream",
     "text": [
      "[[5 3 1]\n",
      " [4 1 7]\n",
      " [4 2 6]]\n",
      "------------------------------\n",
      "[[1 3 5]\n",
      " [1 4 7]\n",
      " [2 4 6]]\n"
     ]
    }
   ],
   "source": [
    "arr=np.random.randint(1,10,(3,3))\n",
    "print(arr)\n",
    "print(\"---\"*10)\n",
    "arr.sort(axis=1) #sort array colwise\n",
    "print(arr)\n"
   ]
  },
  {
   "cell_type": "code",
   "execution_count": 26,
   "id": "5f2ac55a",
   "metadata": {},
   "outputs": [
    {
     "name": "stdout",
     "output_type": "stream",
     "text": [
      "[[1 3 9]\n",
      " [3 7 2]\n",
      " [6 6 6]]\n",
      "------------------------------\n",
      "[[1 3 2]\n",
      " [3 6 6]\n",
      " [6 7 9]]\n"
     ]
    }
   ],
   "source": [
    "arr=np.random.randint(1,10,(3,3))\n",
    "print(arr)\n",
    "print(\"---\"*10)\n",
    "arr1=np.sort(arr,axis=0) #sort array Rowwise\n",
    "print(arr1)"
   ]
  },
  {
   "cell_type": "code",
   "execution_count": 30,
   "id": "e8291cfd",
   "metadata": {},
   "outputs": [
    {
     "name": "stdout",
     "output_type": "stream",
     "text": [
      "[[5 3 3]\n",
      " [8 1 3]\n",
      " [8 2 9]]\n",
      "------------------------------\n",
      "[[5 8 1]\n",
      " [2 9 8]\n",
      " [8 8 3]]\n",
      "------------------------------\n",
      "[5 3 3 8 1 3 8 2 9 5 8 1 2 9 8 8 8 3]\n",
      "[[5 3 3]\n",
      " [8 1 3]\n",
      " [8 2 9]\n",
      " [5 8 1]\n",
      " [2 9 8]\n",
      " [8 8 3]]\n",
      "------------------------------\n",
      "[[5 3 3 5 8 1]\n",
      " [8 1 3 2 9 8]\n",
      " [8 2 9 8 8 3]]\n",
      "------------------------------\n"
     ]
    }
   ],
   "source": [
    "#append\n",
    "arr=np.random.randint(1,10,(3,3))\n",
    "arr1=np.random.randint(1,10,(3,3))\n",
    "print(arr)\n",
    "print(\"---\"*10)\n",
    "print(arr1)\n",
    "print(\"---\"*10)\n",
    "\n",
    "arr3 = np.append(arr,arr1) #convert into 1d and append all elements\n",
    "print(arr3)\n",
    "arr3 = np.append(arr,arr1,axis=0) #appending data row wise\n",
    "print(arr3)\n",
    "print(\"---\"*10)\n",
    "arr3 = np.append(arr,arr1,axis=1) #appending data Column wise\n",
    "print(arr3)\n",
    "print(\"---\"*10)"
   ]
  },
  {
   "cell_type": "code",
   "execution_count": 31,
   "id": "b7bdb113",
   "metadata": {},
   "outputs": [
    {
     "name": "stdout",
     "output_type": "stream",
     "text": [
      "[[8 2 7]\n",
      " [4 9 4]\n",
      " [6 8 2]]\n",
      "------------------------------\n",
      "[8 2 4 4 6 8 2]\n"
     ]
    }
   ],
   "source": [
    "#Filter Data\n",
    "arr=np.random.randint(1,10,(3,3))\n",
    "print(arr)\n",
    "print(\"---\"*10)\n",
    "arr1=arr[arr%2==0]\n",
    "print(arr1)"
   ]
  },
  {
   "cell_type": "code",
   "execution_count": 32,
   "id": "db098fb0",
   "metadata": {},
   "outputs": [
    {
     "name": "stdout",
     "output_type": "stream",
     "text": [
      "[[7 7 5]\n",
      " [7 4 2]\n",
      " [8 8 7]]\n",
      "------------------------------\n",
      "[7 7 5 7 7]\n"
     ]
    }
   ],
   "source": [
    "#Filter Data\n",
    "arr=np.random.randint(1,10,(3,3))\n",
    "print(arr)\n",
    "print(\"---\"*10)\n",
    "arr1=arr[arr%2==1]\n",
    "print(arr1)"
   ]
  },
  {
   "cell_type": "code",
   "execution_count": 34,
   "id": "b7b97896",
   "metadata": {},
   "outputs": [
    {
     "name": "stdout",
     "output_type": "stream",
     "text": [
      "[[4 7 4]\n",
      " [9 3 4]\n",
      " [1 4 9]]\n",
      "------------------------------\n",
      "[[ 4 -1  4]\n",
      " [-1 -1  4]\n",
      " [-1  4 -1]]\n"
     ]
    }
   ],
   "source": [
    "#Filter Data\n",
    "arr=np.random.randint(1,10,(3,3))\n",
    "print(arr)\n",
    "print(\"---\"*10)\n",
    "arr[arr%2==1]=-1\n",
    "print(arr)"
   ]
  },
  {
   "cell_type": "code",
   "execution_count": 40,
   "id": "c14ce856",
   "metadata": {},
   "outputs": [
    {
     "name": "stdout",
     "output_type": "stream",
     "text": [
      "[7 9 9 5 3 9 6 8 1 3]\n",
      "------------------------------\n",
      "8\n",
      "1\n"
     ]
    }
   ],
   "source": [
    "arr=np.random.randint(1,10,10)\n",
    "print(arr)\n",
    "print(\"---\"*10)\n",
    "print(arr.argmin())#return 1st index of min value \n",
    "print(arr.argmax()) #return 1st index of max value "
   ]
  },
  {
   "cell_type": "code",
   "execution_count": 41,
   "id": "cb56ad30",
   "metadata": {},
   "outputs": [
    {
     "name": "stdout",
     "output_type": "stream",
     "text": [
      "[3 6 8 8 8 1 1 2 6 6]\n",
      "------------------------------\n",
      "[1 2 3 6 8]\n"
     ]
    }
   ],
   "source": [
    "#Unique values\n",
    "arr=np.random.randint(1,10,10)\n",
    "print(arr)\n",
    "print(\"---\"*10)\n",
    "print(np.unique(arr))"
   ]
  },
  {
   "cell_type": "code",
   "execution_count": 44,
   "id": "870ec104",
   "metadata": {},
   "outputs": [
    {
     "name": "stdout",
     "output_type": "stream",
     "text": [
      "[8 7 3 4 9 6 8 3 1 8]\n",
      "8\n",
      "7\n",
      "3\n",
      "4\n",
      "9\n",
      "6\n",
      "8\n",
      "3\n",
      "1\n",
      "8\n"
     ]
    }
   ],
   "source": [
    "#Iterate Through Array element\n",
    "arr=np.random.randint(1,10,10)\n",
    "print(arr)\n",
    "for i in arr:\n",
    "    print(i)"
   ]
  },
  {
   "cell_type": "code",
   "execution_count": 45,
   "id": "d9799844",
   "metadata": {},
   "outputs": [
    {
     "name": "stdout",
     "output_type": "stream",
     "text": [
      "[5 4 9 8 7 9 7 8 4 5]\n",
      "[5 4 8 7 9 7 8 9 4 5]\n"
     ]
    }
   ],
   "source": [
    "#reverse\n",
    "arr=np.random.randint(1,10,10)\n",
    "print(arr)\n",
    "print(arr[::-1])"
   ]
  },
  {
   "cell_type": "code",
   "execution_count": null,
   "id": "54ff6738",
   "metadata": {},
   "outputs": [],
   "source": []
  },
  {
   "cell_type": "code",
   "execution_count": null,
   "id": "fd1eb0f7",
   "metadata": {},
   "outputs": [],
   "source": []
  },
  {
   "cell_type": "code",
   "execution_count": null,
   "id": "b36530c3",
   "metadata": {},
   "outputs": [],
   "source": []
  },
  {
   "cell_type": "code",
   "execution_count": null,
   "id": "b13aba66",
   "metadata": {},
   "outputs": [],
   "source": []
  },
  {
   "cell_type": "code",
   "execution_count": null,
   "id": "e87ee5d1",
   "metadata": {},
   "outputs": [],
   "source": []
  },
  {
   "cell_type": "code",
   "execution_count": null,
   "id": "1d128984",
   "metadata": {},
   "outputs": [],
   "source": []
  },
  {
   "cell_type": "code",
   "execution_count": null,
   "id": "dba8a3e5",
   "metadata": {},
   "outputs": [],
   "source": []
  },
  {
   "cell_type": "code",
   "execution_count": null,
   "id": "ce2e1b86",
   "metadata": {},
   "outputs": [],
   "source": []
  },
  {
   "cell_type": "code",
   "execution_count": null,
   "id": "01d277de",
   "metadata": {},
   "outputs": [],
   "source": []
  },
  {
   "cell_type": "code",
   "execution_count": null,
   "id": "eab0290b",
   "metadata": {},
   "outputs": [],
   "source": []
  },
  {
   "cell_type": "code",
   "execution_count": null,
   "id": "8961b0bc",
   "metadata": {},
   "outputs": [],
   "source": []
  },
  {
   "cell_type": "code",
   "execution_count": null,
   "id": "bd06eb95",
   "metadata": {},
   "outputs": [],
   "source": []
  },
  {
   "cell_type": "code",
   "execution_count": null,
   "id": "11a74d3b",
   "metadata": {},
   "outputs": [],
   "source": []
  },
  {
   "cell_type": "code",
   "execution_count": null,
   "id": "4d60436e",
   "metadata": {},
   "outputs": [],
   "source": []
  },
  {
   "cell_type": "code",
   "execution_count": null,
   "id": "71c9d1ed",
   "metadata": {},
   "outputs": [],
   "source": []
  },
  {
   "cell_type": "code",
   "execution_count": null,
   "id": "80160cc0",
   "metadata": {},
   "outputs": [],
   "source": []
  }
 ],
 "metadata": {
  "kernelspec": {
   "display_name": "Python 3 (ipykernel)",
   "language": "python",
   "name": "python3"
  },
  "language_info": {
   "codemirror_mode": {
    "name": "ipython",
    "version": 3
   },
   "file_extension": ".py",
   "mimetype": "text/x-python",
   "name": "python",
   "nbconvert_exporter": "python",
   "pygments_lexer": "ipython3",
   "version": "3.11.5"
  }
 },
 "nbformat": 4,
 "nbformat_minor": 5
}
